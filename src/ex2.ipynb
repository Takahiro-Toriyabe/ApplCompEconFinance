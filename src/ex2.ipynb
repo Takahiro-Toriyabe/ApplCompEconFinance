{
 "nbformat": 4,
 "nbformat_minor": 2,
 "metadata": {
  "language_info": {
   "name": "python",
   "codemirror_mode": {
    "name": "ipython",
    "version": 3
   },
   "version": "3.7.0-final"
  },
  "orig_nbformat": 2,
  "file_extension": ".py",
  "mimetype": "text/x-python",
  "name": "python",
  "npconvert_exporter": "python",
  "pygments_lexer": "ipython3",
  "version": 3,
  "kernelspec": {
   "name": "python37064bitbaseconda89a78629bc1242498814d38a2a22ca0d",
   "display_name": "Python 3.7.0 64-bit ('base': conda)"
  }
 },
 "cells": [
  {
   "cell_type": "code",
   "execution_count": 1,
   "metadata": {},
   "outputs": [
    {
     "name": "stdout",
     "output_type": "stream",
     "text": "Solution by LU decomposition: [ 0.01893441  0.01680508  0.02335523 -0.00041085]\n"
    }
   ],
   "source": [
    "# Exercise 2.1 (a)\n",
    "import numpy as np\n",
    "import scipy.linalg as linalg\n",
    "\n",
    "A = np.array([\n",
    "    [54, 14, -11, 2],\n",
    "    [14, 50, -4, 29],\n",
    "    [-11, -4, 55, 22],\n",
    "    [2, 29, 22, 95]\n",
    "])\n",
    "\n",
    "b = np.array([1 for i in range(4)])\n",
    "\n",
    "LU = linalg.lu_factor(A)\n",
    "x_a = linalg.lu_solve(LU, b)\n",
    "print('Solution by LU decomposition:', x_a)"
   ]
  },
  {
   "cell_type": "code",
   "execution_count": 2,
   "metadata": {},
   "outputs": [
    {
     "name": "stdout",
     "output_type": "stream",
     "text": "Solution by Gauss-Jacobi method: [ 0.01893423  0.01680464  0.02335512 -0.00041112] (Iteration 23)\n"
    }
   ],
   "source": [
    "# Exercise 2.1 (b)\n",
    "def iteration_method(A, b, Q, tol=1.0e-4):\n",
    "    invQ = np.linalg.inv(Q)\n",
    "    mat1, mat2 = invQ @ b.T, np.identity(len(A)) - invQ @ A\n",
    "    niter, x = 0, b\n",
    "    while np.linalg.norm(b - A @ x.T) > tol:\n",
    "        x = (mat1 + mat2 @ x.T).T\n",
    "        niter += 1\n",
    "    return x, niter\n",
    "\n",
    "x_b, niter_b = iteration_method(A, b, np.diag(np.diag(A)))\n",
    "print('Solution by Gauss-Jacobi method:', x_b, '(Iteration {0:.0f})'.format(niter_b))"
   ]
  },
  {
   "cell_type": "code",
   "execution_count": 3,
   "metadata": {},
   "outputs": [
    {
     "name": "stdout",
     "output_type": "stream",
     "text": "Solution by Gauss-Seidel method: [ 0.01893439  0.01680584  0.02335586 -0.00041204] (Iteration 12)\n"
    }
   ],
   "source": [
    "# Exercise 2.1 (c)\n",
    "x_c, niter_c = iteration_method(A, b, np.triu(A))\n",
    "print('Solution by Gauss-Seidel method:', x_c, '(Iteration {0:.0f})'.format(niter_c))"
   ]
  },
  {
   "cell_type": "code",
   "execution_count": 4,
   "metadata": {},
   "outputs": [
    {
     "name": "stdout",
     "output_type": "stream",
     "text": "Use built-in solver\ni =  1: Time:0.005984 [sec]\ni = 10: Time:0.006980 [sec]\ni = 50: Time:0.011969 [sec]\n"
    }
   ],
   "source": [
    "# Exercise 2.2 (a)\n",
    "import time\n",
    "np.random.seed(seed=1120002)\n",
    "n = 100\n",
    "A = np.random.normal(size=n**2).reshape(n, n)\n",
    "b = np.random.normal(size=n)\n",
    "\n",
    "print('Use built-in solver')\n",
    "start = time.time()\n",
    "for i in range(0,50):\n",
    "    x = np.linalg.solve(A, b)\n",
    "    if i in [0, 9, 49]:\n",
    "        elapsed_time = time.time() - start\n",
    "        print ('i = {0:>2}: Time:{1:.6f} [sec]'.format(i+1, elapsed_time))"
   ]
  },
  {
   "cell_type": "code",
   "execution_count": 5,
   "metadata": {},
   "outputs": [
    {
     "name": "stdout",
     "output_type": "stream",
     "text": "Use manual LU decomposition\ni =  1: Time:0.009421 [sec]\ni = 10: Time:0.012717 [sec]\ni = 50: Time:0.024685 [sec]\n"
    }
   ],
   "source": [
    "# Exercise 2.2 (b)\n",
    "print('Use manual LU decomposition')\n",
    "start = time.time()\n",
    "P, L, U = linalg.lu(A)\n",
    "L = P @ L\n",
    "for i in range(0,50):\n",
    "    x = np.linalg.solve(U, np.linalg.solve(L, b))\n",
    "    if i in [0, 9, 49]:\n",
    "        elapsed_time = time.time() - start\n",
    "        print ('i = {0:>2}: Time:{1:.6f} [sec]'.format(i+1, elapsed_time))"
   ]
  },
  {
   "cell_type": "code",
   "execution_count": 6,
   "metadata": {},
   "outputs": [
    {
     "name": "stdout",
     "output_type": "stream",
     "text": "Use inverse matrix\ni =  1: Time:0.004989 [sec]\ni = 10: Time:0.005984 [sec]\ni = 50: Time:0.005984 [sec]\n"
    }
   ],
   "source": [
    "# Exercise 2.2 (c)\n",
    "print('Use inverse matrix')\n",
    "start = time.time()\n",
    "invA = np.linalg.inv(A)\n",
    "for i in range(0,50):\n",
    "    x = invA @ b.T\n",
    "    if i in [0, 9, 49]:\n",
    "        elapsed_time = time.time() - start\n",
    "        print ('i = {0:>2}: Time:{1:.6f} [sec]'.format(i+1, elapsed_time))"
   ]
  },
  {
   "cell_type": "markdown",
   "execution_count": null,
   "metadata": {},
   "outputs": [],
   "source": [
    "**Exercise 2.3**\n",
    "Let $T_{x} = Q^{-1} b + \\left((I - Q^{-1}A \\right) x$, where $Q = diag(A)$, and $x^{(k+1)} = T_{x^{(k)}}$, where $x^{0}$ is some conformable row vector. (As long as $A$ does not have a row whose elements are all zero, the diagonal dominance of $A$ confirms the existence of $Q^{-1}$.) Then,\n",
    "$$\n",
    "\\begin{align}\n",
    "\\|x^{(k+1)} - x^{(k)}\\| &= \\|T_{x^{(k)}} - T_{x^{(k-1)}}\\| \\\\\n",
    "    &= \\Bigg\\| (I - Q^{-1}A)^{k} \\left(Q^{-1}b + (I - Q^{-1} A) x^{(0)} \\right) \\Bigg\\| \\\\\n",
    "    &\\leq \\| (I - Q^{-1}A)^{k} \\| \\left( \\| Q^{-1} b \\| + \\|I - Q^{-1}A \\| \\| x^{(0)} \\|] \\right)\n",
    "\\end{align}\n",
    "$$\n",
    "Since $\\| Q^{-1} b \\| + \\|I - Q^{-1}A \\| \\| x^{(0)} \\|]$ is bounded (given $A$ and $x^{(0)}$), \n",
    "$$\n",
    "\\lim_{k \\rightarrow \\infty} \\| (I - Q^{-1}A)^{k} \\| = 0 \\Rightarrow \\lim_{k \\rightarrow \\infty} \\|x^{(k+1)} - x^{(k)}\\| = 0\n",
    "$$\n",
    "\n",
    "Denote the spectral raidus as $\\rho(\\cdot)$, and an eigenvector-eigenvalue pair of some matrix $B$ as $(v, \\lambda)$. Then,\n",
    "$$\n",
    "\\|B\\| \\| v \\| \\geq \\|B v \\| = \\|\\lambda v \\| = |\\lambda| \\|v\\|, \\quad \\therefore \\|\\lambda\\| \\leq \\|B\\|\n",
    "$$\n",
    "Since the above inequality holds for any eigenvector and any natural matrix norm, it follows that\n",
    "$$\n",
    "\\rho(B) = \\max \\{|\\lambda_{1}|, \\dots, |\\lambda_{n}| \\} < \\|B \\|_{\\infty}\n",
    "$$\n",
    "Therefore,\n",
    "$$\n",
    "\\rho(I - Q^{-1} A) < \\|I - Q^{-1} A \\|_{\\infty} = \\max_{1 \\leq i \\leq n} \\sum_{j=1}^{n} |a_{ij}| < 1 \n",
    "$$\n",
    "where the last inequality follows from the assumption that $A$ is diagonaly dominant. Since $\\rho(I - Q^{-1} A) < 1 \\Leftrightarrow \\lim_{k \\rightarrow \\infty} (I - Q^{-1} A)^k = 0$ and since $\\|\\cdot\\|$ is continuous we have\n",
    "$$\n",
    "\\lim_{k \\rightarrow \\infty} \\| (I - Q^{-1}A)^{k} \\| = \\|\\lim_{k \\rightarrow \\infty} (I - Q^{-1}A)^{k} \\| = 0\n",
    "$$\n",
    "Hence, $\\left\\{x^{(k)}\\right\\}_{k=1}^{\\infty}$ is a Cauchy sequence. The completeness of the Euclidean space confirms the existence of its limit, i.e., $\\lim_{k \\rightarrow \\infty} x^{(k)} = x$."
   ]
  },
  {
   "cell_type": "markdown",
   "execution_count": null,
   "metadata": {},
   "outputs": [],
   "source": [
    "**Exercise 2.4\n",
    "\n",
    "**First formula**\n",
    "\n",
    "- This is not defined when $a = 0$\n",
    "- Rounding error is serious when $b^2$ is large relative to $ac$\n",
    "\n",
    "**Second formula**\n",
    "\n",
    "- This gives a correct root when $a = 0$, while another root is not defined due to zero-division problem in that case\n",
    "- Rounding error is serious when $b^2$ is large relative to $ac$\n",
    "- When $c = 0$, this gives a correct root $x = 0$, but does not give another root $x = \\frac{b}{a}$ \n",
    "\n",
    "**Third formula**\n",
    "\n",
    "- This is not defined when $a = 0$ or $b = 0$\n",
    "- This gives correct roots when $a \\neq 0$, $b \\neq 0$ and $c = 0$\n",
    "\n",
    "**Fourth formula**\n",
    "\n",
    "- This is not defined when $b = 0$ or $b^2 = \\pm \\sqrt{1 - 4ac}$\n",
    "- This gives correct roots when $a = 0$ or $c = 0$"
   ]
  },
  {
   "cell_type": "code",
   "execution_count": 7,
   "metadata": {},
   "outputs": [],
   "source": [
    "# Exercise 2.4 (continued)\n",
    "import math\n",
    "\n",
    "def solve_quadratic_equation(a, b, c):\n",
    "    if a == 0 and b == 0 and c == 0:\n",
    "        print('Any real number satisfies the equation')\n",
    "        return None, None\n",
    "    if a == 0 and b == 0 and c != 0:\n",
    "        print('No real number satisfies the equation')\n",
    "        return None, None\n",
    "    if a != 0 and b == 0 and c == 0:\n",
    "        return 0, None\n",
    "    if (a == 0 or c == 0) and b != 0:\n",
    "        return -2 * c / b * (1 + math.sqrt(1 - 4 * a * c / b**2)), None\n",
    "    if a != 0 and b == 0 and c != 0:\n",
    "        return math.sqrt(c / a), math.sqrt(c / a)\n",
    "    if a != 0 and b != 0 and c != 0:\n",
    "        if b > 0:\n",
    "            x1 = -(b + math.sqrt(b**2 - 4 * a * c)) / (2 * a)\n",
    "            x2 = -2 * c / (b + math.sqrt(b**2 - 4 * a * c))\n",
    "            return x1, x2\n",
    "        if b < 0:\n",
    "            x1 = -(b - math.sqrt(b**2 - 4 * a * c)) / (2 * a)\n",
    "            x2 = -2 * c / (b - math.sqrt(b**2 - 4 * a * c))\n",
    "            return x1, x2"
   ]
  }
 ]
}