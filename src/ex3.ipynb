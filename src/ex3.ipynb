{
 "nbformat": 4,
 "nbformat_minor": 2,
 "metadata": {
  "language_info": {
   "name": "python",
   "codemirror_mode": {
    "name": "ipython",
    "version": 3
   },
   "version": "3.7.0-final"
  },
  "orig_nbformat": 2,
  "file_extension": ".py",
  "mimetype": "text/x-python",
  "name": "python",
  "npconvert_exporter": "python",
  "pygments_lexer": "ipython3",
  "version": 3,
  "kernelspec": {
   "name": "python37064bitbaseconda89a78629bc1242498814d38a2a22ca0d",
   "display_name": "Python 3.7.0 64-bit ('base': conda)"
  }
 },
 "cells": [
  {
   "cell_type": "code",
   "execution_count": 1,
   "metadata": {},
   "outputs": [],
   "source": [
    "# Exercise 3.1 (a)\n",
    "import numpy as np\n",
    "\n",
    "def func3_1(x, c):\n",
    "    return x**2 - c\n",
    "\n",
    "def find_root3_1(c, init=1, tol=1.0e-8):\n",
    "    if c == 0:\n",
    "        return 0\n",
    "    if c != 0 and init ==0:\n",
    "        print('Initial value should be non-zero')\n",
    "        return None\n",
    "\n",
    "    root = init\n",
    "    while abs(func3_1(root, c)) > tol:\n",
    "        root = root / 2 + c / (2 * root)\n",
    "    return root"
   ]
  },
  {
   "cell_type": "markdown",
   "execution_count": null,
   "metadata": {},
   "outputs": [],
   "source": [
    "**(b)** \n",
    "Since $f(0) < 0 \\leq f(c)$ for $c \\geq 1$ and $f(0) < 0 < f(1)$, a good starting value can be found by bisection method (with several iterations)."
   ]
  },
  {
   "cell_type": "code",
   "execution_count": 2,
   "metadata": {},
   "outputs": [],
   "source": [
    "# Exercise 3.1 (b) and (c)\n",
    "def find_start_value(c, niter=5):\n",
    "    a = 0\n",
    "    b = (c >= 1) * c + (c < 1) * 1\n",
    "    for i in range(niter):\n",
    "        d = (b - a) / 2\n",
    "        if np.sign(func3_1(a + d, c)) == np.sign(func3_1(a, c)):\n",
    "            a = a + d\n",
    "        else:\n",
    "            b = b - d\n",
    "    return (a + b) / 2\n",
    "\n",
    "def find_root3_1_sv(c, niter=5, tol=1.0e-8):\n",
    "    sv = find_start_value(c, niter=niter)\n",
    "    root = find_root3_1(c, init=sv, tol=tol)\n",
    "    print('Starting value: {0:.8f}'.format(sv))\n",
    "    print('Solution: {0:.8f}'.format(root))\n",
    "    return root"
   ]
  },
  {
   "cell_type": "code",
   "execution_count": 3,
   "metadata": {},
   "outputs": [],
   "source": [
    "# Exercise 3.2 (a)\n",
    "def func3_2(x, c):\n",
    "    try:\n",
    "        return (x * (x + 2)) - c**2\n",
    "    except OverflowError:\n",
    "        return (x + c) * (x - c) + 2 * x\n",
    "\n",
    "def find_root3_2(c, init=1, tol=1.0e-8):\n",
    "    if c == 0:\n",
    "        return 0\n",
    "    root = init\n",
    "    while abs(func3_2(root, c)) > tol:\n",
    "        root = (3 * root - 1 / (1 + 1 / root)  + c * (c / (root + 1))) / 4\n",
    "    return root"
   ]
  },
  {
   "cell_type": "code",
   "execution_count": 4,
   "metadata": {},
   "outputs": [],
   "source": [
    "# Exercise 3.2 (b) and (c)\n",
    "def find_start_value(c, niter=5):\n",
    "    a = 0\n",
    "    b = c\n",
    "    for i in range(niter):\n",
    "        d = (b - a) / 2\n",
    "        if np.sign(func3_2(a + d, c)) == np.sign(func3_2(a, c)):\n",
    "            a = a + d\n",
    "        else:\n",
    "            b = b - d\n",
    "    return (a + b) / 2\n",
    "\n",
    "\n",
    "def find_root3_2_sv(c, niter=5, tol=1.0e-8):\n",
    "    sv = find_start_value(c, niter=niter)\n",
    "    root = find_root3_2(c, init=sv, tol=tol)\n",
    "    print('Starting value: {0:.8f}'.format(sv))\n",
    "    print('Solution: {0:.8f}'.format(root))\n",
    "    return root"
   ]
  },
  {
   "cell_type": "code",
   "execution_count": 5,
   "metadata": {},
   "outputs": [],
   "source": [
    "# Exercise 3.3 (a)\n",
    "from scipy.stats import norm\n",
    "\n",
    "def BSVal(S, K, tau, r, delta, sigma):\n",
    "    d = (np.log(np.exp(-delta * tau) * S) - np.log(np.exp(-r * tau) * K)) / (sigma * np.sqrt(tau)) + 0.5 * sigma * np.sqrt(tau)\n",
    "    fval = np.exp(-delta * tau) * S * norm.cdf(d) - np.exp(-r * tau) * K * norm.cdf(d - sigma * np.sqrt(tau))\n",
    "    dval = S * np.exp(-delta * tau) * np.sqrt(tau / (2 * np.pi)) * np.exp(-0.5 * d**2)\n",
    "    return fval, dval"
   ]
  },
  {
   "cell_type": "code",
   "execution_count": 6,
   "metadata": {},
   "outputs": [
    {
     "name": "stdout",
     "output_type": "stream",
     "text": "0.29996692995674357\n"
    }
   ],
   "source": [
    "# Exercise 3.3 (b)\n",
    "def ImpVol(S, K, tau, r, delta, V, init=1.0, tol=1.0e-8):\n",
    "    def wrap_BSVal(sigma):\n",
    "        f, df = BSVal(S, K, tau, r, delta, sigma)\n",
    "        return f - V, df\n",
    "\n",
    "    root, f, df = init, *wrap_BSVal(init)\n",
    "    while abs(f) > tol:\n",
    "        f, df = wrap_BSVal(root)\n",
    "        root = root - f / df\n",
    "    return root\n",
    "\n",
    "print(ImpVol(100, 100, 1, 0.05, 0, 14.23))"
   ]
  },
  {
   "cell_type": "markdown",
   "execution_count": null,
   "metadata": {},
   "outputs": [],
   "source": [
    "**Exercise 3.4**\n",
    "The first order condition is\n",
    "$$\n",
    "A^{*}_{ij} = A_{ij} + \\lambda_{i} d_{j}\n",
    "$$\n",
    "where $\\lambda_{i}$ is the Lagrange multiplier on the $i$th constraint. Thus, the constrain gives\n",
    "$$\n",
    "\\lambda_{i} = \\frac{g_{i} - \\sum_{j} A_{ij} d_{j}}{d^{T} d}\n",
    "$$\n",
    "and hence,\n",
    "$$\n",
    "A^{*}_{ij} = A_{ij} + \\left(g_{i} - \\sum_{j} A_{ij} d_{j}\\right) \\frac{d_{j}}{d^{T} d}\n",
    "$$\n",
    "In fact, the right hand side is the $(i, j)$ element of $A + (g - Ad) \\frac{d^{T}}{d^{T} d}$."
   ]
  },
  {
   "cell_type": "markdown",
   "execution_count": null,
   "metadata": {},
   "outputs": [],
   "source": [
    "**Exercise 3.5**\n",
    "Consider the function $f: \\mathbb{R}^2 \\rightarrow \\mathbb{R}^2$ defined by\n",
    "$$\n",
    "\\begin{align}\n",
    "    &f_{1}(x) = 200 x_{1} \\left(x_{2} - x_{1}^{2}\\right) - x_{1} + 1 \\\\\n",
    "    & f_{2}(x) = 100 \\left(x_{1}^{2} - x_{2} \\right)\n",
    "\\end{align}\n",
    "$$\n",
    "\n",
    "Write a function that takes a column 2-vector $x$ as input and return a column 2-vector that contains the value of $f$ at $x$, and a 2-by-2 matrix that contain the Jacobian of $f$ at $x$.\n",
    "\n",
    "- (a) Compute numerically the root fo $f$ using Newton's method\n",
    "- (b) Compute numerically the root of $f$ using Broyden's method"
   ]
  },
  {
   "cell_type": "code",
   "execution_count": 7,
   "metadata": {},
   "outputs": [
    {
     "name": "stdout",
     "output_type": "stream",
     "text": "Convergence achieved with 43 iterations\nSolution = [0.99995432 0.99990862]\nfval = [-2.44674996e-06  5.44705659e-07]\n"
    }
   ],
   "source": [
    "# Exercise 3.5 (a)\n",
    "def func3_5(x):\n",
    "    f1 = x[0] * (x[1] - x[0]**2) - x[1] / 100 + 1 / 100\n",
    "    f2 = x[0]**2 - x[1]\n",
    "    return np.array([f1, f2])\n",
    "\n",
    "def invJfunc3_5(x):\n",
    "    df11 = 2 * x[1] - 6 * x[0]**2 - 1 / 100\n",
    "    df12 = 2 * x[1]\n",
    "    df21 = 2 * x[0]\n",
    "    df22 = -1\n",
    "    det = df11 * df22 - df12 * df21\n",
    "\n",
    "    inv11, inv12, inv21, inv22 = df22, -df12, -df21, df11\n",
    "    return np.array([[inv11, inv12], [inv21, inv22]]) / det\n",
    "\n",
    "def newton3_5(init, tol=1.0e-10, maxiter=500):\n",
    "    root = init\n",
    "    for i in range(maxiter):\n",
    "        fval, invJ = func3_5(root).T, invJfunc3_5(root)\n",
    "        root = root - (invJ @ fval).T\n",
    "        if np.dot(fval, fval) < tol:\n",
    "            print('Convergence achieved with {:.0f} iterations'.format(i))\n",
    "            print('Solution =', root)\n",
    "            print('fval =', fval)\n",
    "            break\n",
    "        if i == maxiter - 1:\n",
    "            print('Convergence not achieved')\n",
    "            return root\n",
    "    return root\n",
    "\n",
    "sol3_5a = newton3_5([0.5, 0.5])"
   ]
  },
  {
   "cell_type": "code",
   "execution_count": 8,
   "metadata": {},
   "outputs": [
    {
     "name": "stdout",
     "output_type": "stream",
     "text": "Convergence achieved with 311 iterations\nSolution = [-0.99954548  0.9990918 ]\nfval = [ 8.44533824e-06 -6.36930940e-07]\n"
    }
   ],
   "source": [
    "# Exercise 3.5 (b)\n",
    "def broyden3_5(init, tol=1.0e-10, maxiter=500):\n",
    "    root_new, fval_new, invJ= init, func3_5(init).T, np.identity(len(init))\n",
    "    for i in range(maxiter):\n",
    "        root, fval = root_new, fval_new\n",
    "        if np.dot(fval, fval) < tol:\n",
    "            print('Convergence achieved with {:.0f} iterations'.format(i))\n",
    "            print('Solution =', root)\n",
    "            print('fval =', fval)\n",
    "            break\n",
    "        if i == maxiter - 1:\n",
    "            print('Convergence not achieved')\n",
    "            return root\n",
    "\n",
    "        # Update root value and new function value\n",
    "        root_new = root - (invJ @ fval).T\n",
    "        fval_new = func3_5(root_new).T\n",
    "\n",
    "        # Update inverse Jacobian\n",
    "        d, u = root_new - root, invJ @ (fval_new - fval)\n",
    "        invJ = invJ + np.outer(d - u, d.T) @ invJ / np.dot(d, u)\n",
    "    return root_new\n",
    "\n",
    "sol3_5b = broyden3_5([0.5, 0.5])"
   ]
  },
  {
   "cell_type": "code",
   "execution_count": 9,
   "metadata": {},
   "outputs": [
    {
     "data": {
      "text/plain": "1.9599639845400536"
     },
     "execution_count": 9,
     "metadata": {},
     "output_type": "execute_result"
    }
   ],
   "source": [
    "# Exercise 3.6\n",
    "from scipy.stats import norm\n",
    "\n",
    "def cdfnormal(x, mu, sigma):\n",
    "    z = (x - mu) / sigma\n",
    "    return [norm.cdf(z), norm.pdf(z)]\n",
    "\n",
    "def icdf(p, F, x0, *args):\n",
    "    if p <= 0 or p >= 1:\n",
    "        print('p should be between 0 and 1')\n",
    "        return None \n",
    "    x = x0\n",
    "    Fval, dFval = F(*((x0,) + args))\n",
    "    while abs(Fval - p) > 1.0e-8:\n",
    "        Fval, dFval = F(*((x,) + args))\n",
    "        x = x - (Fval - p) / dFval\n",
    "    return x\n",
    "\n",
    "icdf(0.975, cdfnormal, 0, 0, 1)"
   ]
  },
  {
   "cell_type": "code",
   "execution_count": 10,
   "metadata": {},
   "outputs": [
    {
     "data": {
      "text/plain": "array([0.26235095, 0.73764905])"
     },
     "execution_count": 10,
     "metadata": {},
     "output_type": "execute_result"
    }
   ],
   "source": [
    "# Exercise 3.7\n",
    "from scipy import optimize\n",
    "\n",
    "\n",
    "class Agent:\n",
    "\n",
    "    def __init__(self, e, pref_a, pref_v):\n",
    "        self.e = e\n",
    "        self.pref_a = pref_a\n",
    "        self.pref_v = pref_v\n",
    "\n",
    "    def demand(self, p):\n",
    "        M = np.dot(p, self.e)\n",
    "\n",
    "        def auxfunc(x0):\n",
    "            x1 = (M - p[0] * x0) / p[1]\n",
    "            return self.pref_a[0] * x0**(self.pref_v[0]) - self.pref_a[1]  * (p[0] / p[1]) * x1**(self.pref_v[1])\n",
    "\n",
    "        # Search initial value\n",
    "        init0 = self.e[0]\n",
    "        if init0 != 0:\n",
    "            while (M - p[0] * init0) / p[1] <= 0:\n",
    "                init0 = 0.99 * init0\n",
    "        else:\n",
    "            init1 = self.e[1]\n",
    "            while (M - p[1] * init1) / p[0] <= 0:\n",
    "                init1 = 0.99 * init1\n",
    "            init0 = (M - p[1] * init1) / p[0]\n",
    "\n",
    "        # Find optimal consumption bundle\n",
    "        x0 = optimize.newton(auxfunc, init0, maxiter=100)\n",
    "        x1 = (M - p[0] * x0) / p[1]\n",
    "        return np.array([x0, x1])\n",
    "\n",
    "\n",
    "class Market:\n",
    "\n",
    "    def __init__(self, agents):\n",
    "        self.agents = agents\n",
    "\n",
    "    def aggrigate_net_demand(self, p0):\n",
    "        # Check if the price vector is between 0 and 1\n",
    "        if p0 > 1 or p0 < 0:\n",
    "            raise ValueError('price should be between 0 and 1')\n",
    "\n",
    "        p = np.array([p0, 1 - p0])\n",
    "        agg_demand = np.sum([agent.demand(p) - agent.e for agent in self.agents], axis=0)\n",
    "        return agg_demand[0]\n",
    "\n",
    "    def equilibrium(self, init=0.5):\n",
    "        p0 = optimize.newton(self.aggrigate_net_demand, x0=init, maxiter=500)\n",
    "        return np.array([p0, 1 - p0])\n",
    "\n",
    "# Preference parameters\n",
    "_es = [[2.0, 3.0], [1.0, 2.0], [4.0, 0.0]]\n",
    "_as = [[2.0, 1.5], [2.5, 2,0], [1.5, 2.0]]\n",
    "_vs = [[-2.0, -0.5], [-1.5, -0.5], [-0.5, -1.5]]\n",
    "\n",
    "# Generate market\n",
    "agents = [Agent(np.array(e), np.array(a), np.array(v))\n",
    "    for e, a, v in zip(_es, _as, _vs)]\n",
    "\n",
    "market = Market(agents)\n",
    "market.equilibrium()"
   ]
  },
  {
   "cell_type": "code",
   "execution_count": 11,
   "metadata": {},
   "outputs": [
    {
     "name": "stdout",
     "output_type": "stream",
     "text": "s = 1.0: c1 = 0.503\ns = 2.0: c1 = 1.026\ns = 3.0: c1 = 1.712\n"
    }
   ],
   "source": [
    "# Exercise 3.8\n",
    "def func3_8(c1, s, kappa=0.2, delta=0.95):\n",
    "    return c1**(-5) + kappa - delta * (s - c1)**(-5)\n",
    "\n",
    "def dfunc3_8(c1, s, kappa=0.2, delta=0.95):\n",
    "    return -5 * c1**(-6) - 5 * delta * (s - c1)**(-6)\n",
    "\n",
    "for s in [1.0, 2.0, 3.0]:\n",
    "    c1 = optimize.newton(func3_8, x0=s/2, fprime=dfunc3_8, args=(s,))\n",
    "    print('s = {0:.1f}: c1 = {1:.3f}'.format(s, c1))"
   ]
  },
  {
   "cell_type": "markdown",
   "execution_count": null,
   "metadata": {},
   "outputs": [],
   "source": [
    "**Exercise 3.9**\n",
    "Provide a formal proof that the complementarity problem $CP(f, a, b)$ is equivalent to the rootfinding problem $\\hat{f} = \\min(\\max(f(x), a - x), b - x) = 0$ in that both have the same solutions."
   ]
  },
  {
   "cell_type": "markdown",
   "execution_count": null,
   "metadata": {},
   "outputs": [],
   "source": [
    "**Proof**\n",
    "Suppose that $x^{*}$ is the solution of the complementarity problem $CP(f, a, b)$. If $x_{i}^{*} = a_{i}$, then $f_{i}(x_{i}^{*}) \\geq 0 $ and $b_{i} - x_{i}^{*} \\geq 0$. Hence, $\\hat{f}_{i}(x_{i}^{*}) = 0$. If $x_{i}^{*} \\in (a_{i}, b_{i})$, then $f_{i}(x) = 0$, $a_{i} - x_{i}^{*} < 0$ and $b_{i} - x_{i}^{*} > 0$. Hence, $\\hat{f}_{i}(x^{*}) = 0$. If $x_{i}^{*} = b_i$, then $f_{i}(x^{*}) \\leq 0$, $a_{i} - x_{i}^{*} \\leq 0$. Hence, $\\hat{f}(x^{*}) = 0$.\n",
    "\n",
    "Suppose that $\\hat{f}(x^{*}) = 0$. Then,\n",
    "$$\n",
    "0 = \\hat{f}_{i} \\left(x^{*}\\right) =\n",
    "\\begin{cases}\n",
    "    \\max\\left\\{f\\left(x^{*}\\right), 0 \\right\\} & \\text{if $x_{i}^{*} = a_{i}$} \\\\\n",
    "    f\\left(x^{*} \\right) & \\text{if $x_{i}^{*} \\in (a, b)$} \\\\\n",
    "    \\min \\left\\{f \\left(x^{*}\\right), 0 \\right\\} & \\text{if $x_{i}^{*} = b_{i}$}\n",
    "\\end{cases}\n",
    "$$\n",
    "Therefore, $f(x^{*}) = 0$."
   ]
  },
  {
   "cell_type": "markdown",
   "execution_count": null,
   "metadata": {},
   "outputs": [],
   "source": [
    "**Exercise 3.10**\n",
    "Commodity $X$ is produced and consumed in three countries. Let quantity $q$ be measured in units and price $p$ be measured in dollars per unit. Demand and supply in the countires are given by the following table:\n",
    "\n",
    "||Demand|Supply|\n",
    "|:---:|:---|:---|\n",
    "|Country 1|$p=42-2q$|$p=9 + 1q$|\n",
    "|Country 2|$p=54-3q$|$p=3 + 2q$|\n",
    "|Country 3|$p=51-1q$|$p=18 + 1q$|\n",
    "\n",
    "The unit costs of transportation are as follows:\n",
    "\n",
    "|From\\To|Country 1|Country 2|Country3|\n",
    "|:---:|:---:|:---:|:---:|\n",
    "|Country 1|0|3|9|\n",
    "|Country 2|3|0|3|\n",
    "|Country 3|6|3|0|\n",
    "\n",
    "- (a) Formulate and solve the linear equation that characterizes competitive equilibrium, assuming that intercountry trade is not permitted\n",
    "- (b) Formulate and solve the linear complementarity problem that characterizes competitive spatial equilibrium, assuming intercountry trade is permitted\n",
    "- (c) Using standard measures of surplus, which of the six consumer and producer groups in the three countries gain, and which ones lose, from the introduction of trade?"
   ]
  },
  {
   "cell_type": "markdown",
   "execution_count": null,
   "metadata": {},
   "outputs": [],
   "source": [
    "**(a)**\n",
    "\n",
    "- Country 1: $(p, q) = (20, 11)$\n",
    "- Country 2: $(p, q) = (23.4, 10.2)$\n",
    "- Country 3: $(p, q) = (34.5, 16.5)$\n",
    "\n",
    "**(b)**\n",
    "Let $q_{ij}$ be the amount of goods exported from $i$ to $j$. Then, the market clearing condition is\n",
    "$$\n",
    "\\begin{align}\n",
    "    &p_{j} = a_{j}^{D} + b_{j}^{D} \\sum_{k=1}^{3} q_{kj} \\\\\n",
    "    &p_{j} = a_{j}^{S} + b_{j}^{S} \\sum_{k=1}^{3} q_{jk}\n",
    "\\end{align}\n",
    "$$\n",
    "and non-arbitrage requires\n",
    "$$\n",
    "\\begin{align}\n",
    "q_{ij} > 0 \\Rightarrow p_{j} - p_{i} - c_{ij} = 0 \\\\\n",
    "q_{ij} = 0 \\Rightarrow p_{j} - p_{i} - c_{ij} \\leq 0\n",
    "\\end{align}\n",
    "$$\n",
    "Hence, the complementarity problem is rewritten as the root finding problem\n",
    "$$\n",
    "0 = \\max \\left\\{f(x), -x \\right\\}\n",
    "$$\n",
    "where $f_{ij}(x) = p_{j} - p_{i} - c_{ij}$."
   ]
  },
  {
   "cell_type": "code",
   "execution_count": 12,
   "metadata": {},
   "outputs": [
    {
     "name": "stdout",
     "output_type": "stream",
     "text": "[23.99998166 26.99998626 30.00000917]\n[[ 9.00000917  5.99997707  0.        ]\n [ 0.          3.00002751  8.99997707]\n [ 0.          0.         12.00001375]]\n"
    }
   ],
   "source": [
    "# (b)\n",
    "import numpy as np\n",
    "from scipy import optimize\n",
    "\n",
    "aD = np.array([42, 54, 51])\n",
    "aS = np.array([9, 3, 18])\n",
    "bD = np.array([-2, -3, -1])\n",
    "bS = np.array([1, 2, 1])\n",
    "c = np.array([[0, 3, 9], [3, 0, 3], [6, 3, 0]])\n",
    "\n",
    "def priceD(x, i):\n",
    "    return aD[i] + bD[i] * np.sum(x.T[i])\n",
    "\n",
    "def priceS(x, i):\n",
    "    return aS[i] + bS[i] * np.sum(x[i])\n",
    "\n",
    "def func3_10(x):\n",
    "    return np.array([[max(priceD(x, j) - priceS(x, i) - c[i][j], -x[i][j]) for j in range(3)] for i in range(3)])\n",
    "\n",
    "def wrap_func3_10(x):\n",
    "    fval = func3_10(x.reshape(3, 3))\n",
    "    return np.array([fval[i][j] for i in range(3) for j in range(3)])\n",
    "\n",
    "x0 = np.array([11, 0, 0, 0, 10.2, 0, 0, 0, 16.5])\n",
    "q = optimize.newton(wrap_func3_10, x0, maxiter=1000).reshape(3, 3)\n",
    "p = np.array([priceD(q, i) for i in range(3)])\n",
    "print(p)\n",
    "print(q)"
   ]
  },
  {
   "cell_type": "markdown",
   "execution_count": null,
   "metadata": {},
   "outputs": [],
   "source": [
    "**(c)**\n",
    "Omitted.\n"
   ]
  }
 ]
}